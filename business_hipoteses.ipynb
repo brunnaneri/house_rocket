{
 "cells": [
  {
   "cell_type": "markdown",
   "id": "1911eb3c",
   "metadata": {},
   "source": [
    "# 0.0 IMPORTS"
   ]
  },
  {
   "cell_type": "code",
   "execution_count": 165,
   "id": "56a1675a",
   "metadata": {
    "ExecuteTime": {
     "end_time": "2022-08-06T20:56:44.447346Z",
     "start_time": "2022-08-06T20:56:44.398036Z"
    }
   },
   "outputs": [],
   "source": [
    "import pandas as pd\n",
    "import numpy as np\n",
    "import seaborn as sns\n",
    "from tabulate import tabulate"
   ]
  },
  {
   "cell_type": "markdown",
   "id": "e25c6cb5",
   "metadata": {},
   "source": [
    "# 0.1 Loading Data"
   ]
  },
  {
   "cell_type": "code",
   "execution_count": 2,
   "id": "edb0ddc9",
   "metadata": {
    "ExecuteTime": {
     "end_time": "2022-08-06T15:40:42.330549Z",
     "start_time": "2022-08-06T15:40:42.218499Z"
    }
   },
   "outputs": [],
   "source": [
    "df_raw = pd.read_csv('Datasets/kc_house_data.csv', low_memory=False)"
   ]
  },
  {
   "cell_type": "code",
   "execution_count": 3,
   "id": "6bd9e561",
   "metadata": {
    "ExecuteTime": {
     "end_time": "2022-08-06T15:40:49.938431Z",
     "start_time": "2022-08-06T15:40:49.848884Z"
    }
   },
   "outputs": [
    {
     "data": {
      "text/html": [
       "<div>\n",
       "<style scoped>\n",
       "    .dataframe tbody tr th:only-of-type {\n",
       "        vertical-align: middle;\n",
       "    }\n",
       "\n",
       "    .dataframe tbody tr th {\n",
       "        vertical-align: top;\n",
       "    }\n",
       "\n",
       "    .dataframe thead th {\n",
       "        text-align: right;\n",
       "    }\n",
       "</style>\n",
       "<table border=\"1\" class=\"dataframe\">\n",
       "  <thead>\n",
       "    <tr style=\"text-align: right;\">\n",
       "      <th></th>\n",
       "      <th>id</th>\n",
       "      <th>date</th>\n",
       "      <th>price</th>\n",
       "      <th>bedrooms</th>\n",
       "      <th>bathrooms</th>\n",
       "      <th>sqft_living</th>\n",
       "      <th>sqft_lot</th>\n",
       "      <th>floors</th>\n",
       "      <th>waterfront</th>\n",
       "      <th>view</th>\n",
       "      <th>...</th>\n",
       "      <th>grade</th>\n",
       "      <th>sqft_above</th>\n",
       "      <th>sqft_basement</th>\n",
       "      <th>yr_built</th>\n",
       "      <th>yr_renovated</th>\n",
       "      <th>zipcode</th>\n",
       "      <th>lat</th>\n",
       "      <th>long</th>\n",
       "      <th>sqft_living15</th>\n",
       "      <th>sqft_lot15</th>\n",
       "    </tr>\n",
       "  </thead>\n",
       "  <tbody>\n",
       "    <tr>\n",
       "      <th>0</th>\n",
       "      <td>7129300520</td>\n",
       "      <td>20141013T000000</td>\n",
       "      <td>221900.0</td>\n",
       "      <td>3</td>\n",
       "      <td>1.00</td>\n",
       "      <td>1180</td>\n",
       "      <td>5650</td>\n",
       "      <td>1.0</td>\n",
       "      <td>0</td>\n",
       "      <td>0</td>\n",
       "      <td>...</td>\n",
       "      <td>7</td>\n",
       "      <td>1180</td>\n",
       "      <td>0</td>\n",
       "      <td>1955</td>\n",
       "      <td>0</td>\n",
       "      <td>98178</td>\n",
       "      <td>47.5112</td>\n",
       "      <td>-122.257</td>\n",
       "      <td>1340</td>\n",
       "      <td>5650</td>\n",
       "    </tr>\n",
       "    <tr>\n",
       "      <th>1</th>\n",
       "      <td>6414100192</td>\n",
       "      <td>20141209T000000</td>\n",
       "      <td>538000.0</td>\n",
       "      <td>3</td>\n",
       "      <td>2.25</td>\n",
       "      <td>2570</td>\n",
       "      <td>7242</td>\n",
       "      <td>2.0</td>\n",
       "      <td>0</td>\n",
       "      <td>0</td>\n",
       "      <td>...</td>\n",
       "      <td>7</td>\n",
       "      <td>2170</td>\n",
       "      <td>400</td>\n",
       "      <td>1951</td>\n",
       "      <td>1991</td>\n",
       "      <td>98125</td>\n",
       "      <td>47.7210</td>\n",
       "      <td>-122.319</td>\n",
       "      <td>1690</td>\n",
       "      <td>7639</td>\n",
       "    </tr>\n",
       "    <tr>\n",
       "      <th>2</th>\n",
       "      <td>5631500400</td>\n",
       "      <td>20150225T000000</td>\n",
       "      <td>180000.0</td>\n",
       "      <td>2</td>\n",
       "      <td>1.00</td>\n",
       "      <td>770</td>\n",
       "      <td>10000</td>\n",
       "      <td>1.0</td>\n",
       "      <td>0</td>\n",
       "      <td>0</td>\n",
       "      <td>...</td>\n",
       "      <td>6</td>\n",
       "      <td>770</td>\n",
       "      <td>0</td>\n",
       "      <td>1933</td>\n",
       "      <td>0</td>\n",
       "      <td>98028</td>\n",
       "      <td>47.7379</td>\n",
       "      <td>-122.233</td>\n",
       "      <td>2720</td>\n",
       "      <td>8062</td>\n",
       "    </tr>\n",
       "    <tr>\n",
       "      <th>3</th>\n",
       "      <td>2487200875</td>\n",
       "      <td>20141209T000000</td>\n",
       "      <td>604000.0</td>\n",
       "      <td>4</td>\n",
       "      <td>3.00</td>\n",
       "      <td>1960</td>\n",
       "      <td>5000</td>\n",
       "      <td>1.0</td>\n",
       "      <td>0</td>\n",
       "      <td>0</td>\n",
       "      <td>...</td>\n",
       "      <td>7</td>\n",
       "      <td>1050</td>\n",
       "      <td>910</td>\n",
       "      <td>1965</td>\n",
       "      <td>0</td>\n",
       "      <td>98136</td>\n",
       "      <td>47.5208</td>\n",
       "      <td>-122.393</td>\n",
       "      <td>1360</td>\n",
       "      <td>5000</td>\n",
       "    </tr>\n",
       "    <tr>\n",
       "      <th>4</th>\n",
       "      <td>1954400510</td>\n",
       "      <td>20150218T000000</td>\n",
       "      <td>510000.0</td>\n",
       "      <td>3</td>\n",
       "      <td>2.00</td>\n",
       "      <td>1680</td>\n",
       "      <td>8080</td>\n",
       "      <td>1.0</td>\n",
       "      <td>0</td>\n",
       "      <td>0</td>\n",
       "      <td>...</td>\n",
       "      <td>8</td>\n",
       "      <td>1680</td>\n",
       "      <td>0</td>\n",
       "      <td>1987</td>\n",
       "      <td>0</td>\n",
       "      <td>98074</td>\n",
       "      <td>47.6168</td>\n",
       "      <td>-122.045</td>\n",
       "      <td>1800</td>\n",
       "      <td>7503</td>\n",
       "    </tr>\n",
       "  </tbody>\n",
       "</table>\n",
       "<p>5 rows × 21 columns</p>\n",
       "</div>"
      ],
      "text/plain": [
       "           id             date     price  bedrooms  bathrooms  sqft_living  \\\n",
       "0  7129300520  20141013T000000  221900.0         3       1.00         1180   \n",
       "1  6414100192  20141209T000000  538000.0         3       2.25         2570   \n",
       "2  5631500400  20150225T000000  180000.0         2       1.00          770   \n",
       "3  2487200875  20141209T000000  604000.0         4       3.00         1960   \n",
       "4  1954400510  20150218T000000  510000.0         3       2.00         1680   \n",
       "\n",
       "   sqft_lot  floors  waterfront  view  ...  grade  sqft_above  sqft_basement  \\\n",
       "0      5650     1.0           0     0  ...      7        1180              0   \n",
       "1      7242     2.0           0     0  ...      7        2170            400   \n",
       "2     10000     1.0           0     0  ...      6         770              0   \n",
       "3      5000     1.0           0     0  ...      7        1050            910   \n",
       "4      8080     1.0           0     0  ...      8        1680              0   \n",
       "\n",
       "   yr_built  yr_renovated  zipcode      lat     long  sqft_living15  \\\n",
       "0      1955             0    98178  47.5112 -122.257           1340   \n",
       "1      1951          1991    98125  47.7210 -122.319           1690   \n",
       "2      1933             0    98028  47.7379 -122.233           2720   \n",
       "3      1965             0    98136  47.5208 -122.393           1360   \n",
       "4      1987             0    98074  47.6168 -122.045           1800   \n",
       "\n",
       "   sqft_lot15  \n",
       "0        5650  \n",
       "1        7639  \n",
       "2        8062  \n",
       "3        5000  \n",
       "4        7503  \n",
       "\n",
       "[5 rows x 21 columns]"
      ]
     },
     "execution_count": 3,
     "metadata": {},
     "output_type": "execute_result"
    }
   ],
   "source": [
    "df_raw.head()"
   ]
  },
  {
   "cell_type": "markdown",
   "id": "8649343e",
   "metadata": {},
   "source": [
    "# 0.2 Summary Data"
   ]
  },
  {
   "cell_type": "markdown",
   "id": "cfee2e84",
   "metadata": {},
   "source": [
    "- id - Identificador de cada propriedade.\n",
    "- date - Data em que a propriedade ficou disponível.\n",
    "- price - O preço de cada imóvel, considerado como preço de compra.\n",
    "- bedrooms - Número de quartos.\n",
    "- bathrooms - O número de banheiros, o valor 0,5 indica um quarto com banheiro, mas sem chuveiro. O valor 0,75 ou 3/4 banheiro representa um banheiro que contém uma pia, um vaso sanitário e um chuveiro ou banheira.\n",
    "- sqft_living - Pés quadrados do interior das casas.\n",
    "- sqft_lot - Pés quadrados do terreno das casas.\n",
    "- floors - Número de andares.\n",
    "- waterfront - Uma variável fictícia para saber se a casa tinha vista para a orla ou não, '1' se a propriedade tem uma      orla, '0' se não.\n",
    "- view - Vista, Um índice de 0 a 4 de quão boa era a visualização da propriedade.\n",
    "- condition - Um índice de 1 a 5 sobre o estado das moradias, 1 indica propriedade degradada e 5 excelente.\n",
    "- grade - Uma nota geral é dada à unidade habitacional com base no sistema de classificação de King County. O índice                     de 1 a 13, onde 1-3 fica aquém da construção e design do edifício, 7 tem um nível médio de construção e                         design e 11-13 tem um nível de construção e design de alta qualidade.\n",
    "- sqft_above - Os pés quadrados do espaço habitacional interior acima do nível do solo.\n",
    "- sqft_basement - Os pés quadrados do espaço habitacional interior abaixo do nível do solo.\n",
    "- yr_built - Ano de construção da propriedade.\n",
    "- yr_renovated - Representa o ano em que o imóvel foi reformado. Considera o número ‘0’ para descrever as propriedades nunca renovadas.\n",
    "- zipcode - Um código de cinco dígitos para indicar a área onde se encontra a propriedade.\n",
    "- lat - Latitude.\n",
    "- long - Longitude.\n",
    "- sqft_living15 - O tamanho médio em pés quadrados do espaço interno de habitação para as 15 casas mais próximas.\n",
    "- sqft_lot15 - Tamanho médio dos terrenos em metros quadrados para as 15 casas mais próximas."
   ]
  },
  {
   "cell_type": "markdown",
   "id": "941feaca",
   "metadata": {},
   "source": [
    "# 1.0 DESCRIÇÃO DOS DADOS"
   ]
  },
  {
   "cell_type": "code",
   "execution_count": 4,
   "id": "ec758517",
   "metadata": {
    "ExecuteTime": {
     "end_time": "2022-08-06T15:49:41.162365Z",
     "start_time": "2022-08-06T15:49:41.154358Z"
    }
   },
   "outputs": [],
   "source": [
    "df1 = df_raw.copy()"
   ]
  },
  {
   "cell_type": "markdown",
   "id": "5e1d7046",
   "metadata": {},
   "source": [
    "## 1.1 Data Dimensions"
   ]
  },
  {
   "cell_type": "code",
   "execution_count": 6,
   "id": "5371f0ef",
   "metadata": {
    "ExecuteTime": {
     "end_time": "2022-08-06T15:51:34.814897Z",
     "start_time": "2022-08-06T15:51:34.809274Z"
    }
   },
   "outputs": [
    {
     "name": "stdout",
     "output_type": "stream",
     "text": [
      "Number of Rows: 21613\n",
      "Number of Cols: 21\n"
     ]
    }
   ],
   "source": [
    "print('Number of Rows: {}'.format(df1.shape[0]))\n",
    "print('Number of Cols: {}'.format(df1.shape[1]))"
   ]
  },
  {
   "cell_type": "markdown",
   "id": "3feb82c3",
   "metadata": {},
   "source": [
    "## 1.2 Data Types"
   ]
  },
  {
   "cell_type": "code",
   "execution_count": 7,
   "id": "34535a8f",
   "metadata": {
    "ExecuteTime": {
     "end_time": "2022-08-06T15:51:56.429690Z",
     "start_time": "2022-08-06T15:51:56.408706Z"
    }
   },
   "outputs": [
    {
     "data": {
      "text/plain": [
       "id                 int64\n",
       "date              object\n",
       "price            float64\n",
       "bedrooms           int64\n",
       "bathrooms        float64\n",
       "sqft_living        int64\n",
       "sqft_lot           int64\n",
       "floors           float64\n",
       "waterfront         int64\n",
       "view               int64\n",
       "condition          int64\n",
       "grade              int64\n",
       "sqft_above         int64\n",
       "sqft_basement      int64\n",
       "yr_built           int64\n",
       "yr_renovated       int64\n",
       "zipcode            int64\n",
       "lat              float64\n",
       "long             float64\n",
       "sqft_living15      int64\n",
       "sqft_lot15         int64\n",
       "dtype: object"
      ]
     },
     "execution_count": 7,
     "metadata": {},
     "output_type": "execute_result"
    }
   ],
   "source": [
    "df1.dtypes"
   ]
  },
  {
   "cell_type": "code",
   "execution_count": 8,
   "id": "baf265c4",
   "metadata": {
    "ExecuteTime": {
     "end_time": "2022-08-06T15:52:22.170919Z",
     "start_time": "2022-08-06T15:52:22.136178Z"
    }
   },
   "outputs": [],
   "source": [
    "#date to datetime\n",
    "\n",
    "df1['date'] =pd.to_datetime(df1['date'])"
   ]
  },
  {
   "cell_type": "code",
   "execution_count": 9,
   "id": "9b41a6e1",
   "metadata": {
    "ExecuteTime": {
     "end_time": "2022-08-06T15:52:31.870401Z",
     "start_time": "2022-08-06T15:52:31.851761Z"
    }
   },
   "outputs": [
    {
     "data": {
      "text/plain": [
       "id                        int64\n",
       "date             datetime64[ns]\n",
       "price                   float64\n",
       "bedrooms                  int64\n",
       "bathrooms               float64\n",
       "sqft_living               int64\n",
       "sqft_lot                  int64\n",
       "floors                  float64\n",
       "waterfront                int64\n",
       "view                      int64\n",
       "condition                 int64\n",
       "grade                     int64\n",
       "sqft_above                int64\n",
       "sqft_basement             int64\n",
       "yr_built                  int64\n",
       "yr_renovated              int64\n",
       "zipcode                   int64\n",
       "lat                     float64\n",
       "long                    float64\n",
       "sqft_living15             int64\n",
       "sqft_lot15                int64\n",
       "dtype: object"
      ]
     },
     "execution_count": 9,
     "metadata": {},
     "output_type": "execute_result"
    }
   ],
   "source": [
    "df1.dtypes"
   ]
  },
  {
   "cell_type": "markdown",
   "id": "f5b4cc69",
   "metadata": {},
   "source": [
    "## 1.4 Check NA"
   ]
  },
  {
   "cell_type": "code",
   "execution_count": 12,
   "id": "ac46af96",
   "metadata": {
    "ExecuteTime": {
     "end_time": "2022-08-06T15:53:07.614899Z",
     "start_time": "2022-08-06T15:53:07.593695Z"
    }
   },
   "outputs": [
    {
     "data": {
      "text/plain": [
       "id               0\n",
       "date             0\n",
       "price            0\n",
       "bedrooms         0\n",
       "bathrooms        0\n",
       "sqft_living      0\n",
       "sqft_lot         0\n",
       "floors           0\n",
       "waterfront       0\n",
       "view             0\n",
       "condition        0\n",
       "grade            0\n",
       "sqft_above       0\n",
       "sqft_basement    0\n",
       "yr_built         0\n",
       "yr_renovated     0\n",
       "zipcode          0\n",
       "lat              0\n",
       "long             0\n",
       "sqft_living15    0\n",
       "sqft_lot15       0\n",
       "dtype: int64"
      ]
     },
     "execution_count": 12,
     "metadata": {},
     "output_type": "execute_result"
    }
   ],
   "source": [
    "df1.isna().sum()"
   ]
  },
  {
   "cell_type": "markdown",
   "id": "22c7f8d5",
   "metadata": {},
   "source": [
    "# 2.0 Hypothesis Validation"
   ]
  },
  {
   "cell_type": "code",
   "execution_count": 13,
   "id": "8e842868",
   "metadata": {
    "ExecuteTime": {
     "end_time": "2022-08-06T16:01:26.487779Z",
     "start_time": "2022-08-06T16:01:26.473752Z"
    }
   },
   "outputs": [],
   "source": [
    "df2 = df1.copy()"
   ]
  },
  {
   "cell_type": "markdown",
   "id": "89676642",
   "metadata": {},
   "source": [
    "## 2.1 Hypothesis List"
   ]
  },
  {
   "cell_type": "markdown",
   "id": "0db66494",
   "metadata": {},
   "source": [
    "- H1: Imóveis que possuem vista para água são 20% mais caros em média.\n",
    "- H2: Imóveis com data de construção menor que 1955 são 50% mais baratos na média.\n",
    "- H3: Imóveis sem porão possuem área total 40% maior que a dos imóveis com porão.\n",
    "- H4: O crescimento do preço dos imóveis YoY é de 10%.\n",
    "- H5: Imóveis com 3 banheiros tem um crescimento de MoM de 15%.\n",
    "- H6: Imóveis com 2 quartos são 20% mais caros que imóveis com menos quartos.\n",
    "- H7: Imóveis construídos na decáda de 90 são 20% mais baratos que imóveis da década de 2000.\n",
    "- H8: Imóveis com mais de 1 andar são 20% mais caros que imóveis com apenas 1 andar.\n",
    "- H9: Imóveis que foram reformados depois de 2005 são 30% mais caros que os que foram reformados antes de 2005.\n",
    "- H10: Imóveis que tem 2 quartos são no mínimo 50% mais caros que imóveis de apenas 1 quarto."
   ]
  },
  {
   "cell_type": "markdown",
   "id": "8abbda7e",
   "metadata": {},
   "source": [
    "## 2.2 Hypothesis analysis"
   ]
  },
  {
   "cell_type": "markdown",
   "id": "2f5bd27a",
   "metadata": {},
   "source": [
    "### H1: Imóveis que possuem vista para água são 20% mais caros em média.\n",
    "**Falsa: Imóveis que possuem vista para água são 3.13 vezes mais caros, em média.**"
   ]
  },
  {
   "cell_type": "code",
   "execution_count": 184,
   "id": "f4cbd0cb",
   "metadata": {
    "ExecuteTime": {
     "end_time": "2022-08-07T01:32:49.903058Z",
     "start_time": "2022-08-07T01:32:49.166464Z"
    },
    "scrolled": true
   },
   "outputs": [
    {
     "name": "stdout",
     "output_type": "stream",
     "text": [
      "Imóveis que possuem vista para água são, em média, 3.13 vezes mais caros que os que não possuem.\n"
     ]
    },
    {
     "data": {
      "image/png": "[encoded data removed]",
      "text/plain": [
       "<Figure size 432x288 with 1 Axes>"
      ]
     },
     "metadata": {
      "needs_background": "light"
     },
     "output_type": "display_data"
    }
   ],
   "source": [
    "aux = df2[['waterfront','price']].groupby('waterfront').mean().reset_index()\n",
    "sns.barplot(x='waterfront',y='price',data=aux);\n",
    "print('Imóveis que possuem vista para água são, em média, {} vezes mais caros que os que não possuem.'.format(round(aux.loc[1,'price']/aux.loc[0,'price'],2)))"
   ]
  },
  {
   "cell_type": "code",
   "execution_count": 179,
   "id": "96104a52",
   "metadata": {
    "ExecuteTime": {
     "end_time": "2022-08-06T21:24:16.091829Z",
     "start_time": "2022-08-06T21:24:16.068526Z"
    }
   },
   "outputs": [],
   "source": [
    "aux_2 = df2[['waterfront','price','zipcode']].groupby(['waterfront','zipcode']).mean().reset_index()"
   ]
  },
  {
   "cell_type": "code",
   "execution_count": 180,
   "id": "aacf39f2",
   "metadata": {
    "ExecuteTime": {
     "end_time": "2022-08-06T21:24:17.905937Z",
     "start_time": "2022-08-06T21:24:17.663484Z"
    }
   },
   "outputs": [
    {
     "data": {
      "text/plain": [
       "<AxesSubplot:xlabel='zipcode'>"
      ]
     },
     "execution_count": 180,
     "metadata": {},
     "output_type": "execute_result"
    },
    {
     "data": {
      "image/png": "[encoded data removed]",
      "text/plain": [
       "<Figure size 432x288 with 1 Axes>"
      ]
     },
     "metadata": {
      "needs_background": "light"
     },
     "output_type": "display_data"
    }
   ],
   "source": [
    "#Confirming that houses with waterfront are always more expensive\n",
    "aux_2.pivot( index='zipcode', columns='waterfront', values='price' ).plot()"
   ]
  },
  {
   "cell_type": "markdown",
   "id": "8d629c42",
   "metadata": {},
   "source": [
    "### H2: Imóveis com data de construção menor que 1955 são 50% mais baratos na média.\n",
    "**Falsa: Imóveis construídos antes e após 1955 apresentam, em média, valores muito próximos.**"
   ]
  },
  {
   "cell_type": "code",
   "execution_count": 171,
   "id": "ea3e3915",
   "metadata": {
    "ExecuteTime": {
     "end_time": "2022-08-06T21:13:16.206261Z",
     "start_time": "2022-08-06T21:13:16.020403Z"
    }
   },
   "outputs": [
    {
     "name": "stdout",
     "output_type": "stream",
     "text": [
      "Imóveis contruídos antes de 1955 têm 0.99 vez o preço médio de imóveis construídos após isso.\n"
     ]
    },
    {
     "data": {
      "image/png": "[encoded data removed]",
      "text/plain": [
       "<Figure size 432x288 with 1 Axes>"
      ]
     },
     "metadata": {
      "needs_background": "light"
     },
     "output_type": "display_data"
    }
   ],
   "source": [
    "aux = df2.loc[df2['yr_built']<1955]\n",
    "aux_price = aux['price'].mean()\n",
    "aux_1 = df2.loc[df2['yr_built']>=1955]\n",
    "aux_1_price = aux_1['price'].mean()\n",
    "df_aux = pd.DataFrame({'antes_55':aux_price,'pos_55':aux_1_price},index=[0]).T.reset_index().rename(columns={'index':'periodo',0:'price'})\n",
    "sns.barplot(x='periodo',y='price',data=df_aux)\n",
    "print('Imóveis contruídos antes de 1955 têm {} vez o preço médio de imóveis construídos após isso.'.format(round(aux_price/aux_1_price,2)))"
   ]
  },
  {
   "cell_type": "markdown",
   "id": "ee45e3dc",
   "metadata": {
    "ExecuteTime": {
     "end_time": "2022-08-06T16:16:40.815488Z",
     "start_time": "2022-08-06T16:16:40.810860Z"
    }
   },
   "source": [
    "### H3: Imóveis sem porão possuem área total 40% maior que a dos imóveis com porão.\n",
    "**Falsa: Imóveis sem porão possuem área total 23% maior que a dos imóveis com porão**"
   ]
  },
  {
   "cell_type": "code",
   "execution_count": 156,
   "id": "15604b95",
   "metadata": {
    "ExecuteTime": {
     "end_time": "2022-08-06T20:38:06.591637Z",
     "start_time": "2022-08-06T20:38:06.366830Z"
    }
   },
   "outputs": [
    {
     "name": "stdout",
     "output_type": "stream",
     "text": [
      "Imóveis sem porão possuem área total 22.56% maior que imóveis com porão\n"
     ]
    },
    {
     "data": {
      "image/png": "[encoded data removed]",
      "text/plain": [
       "<Figure size 432x288 with 1 Axes>"
      ]
     },
     "metadata": {
      "needs_background": "light"
     },
     "output_type": "display_data"
    }
   ],
   "source": [
    "df2_aux = df2.copy()\n",
    "df2_aux['basement'] = df2_aux['sqft_basement'].apply(lambda x: 'no_basement' if x==0 else 'basement')\n",
    "df2_aux_plot = df2_aux[['basement','sqft_lot']].groupby('basement').mean().reset_index()\n",
    "sns.barplot(x='basement',y='sqft_lot',data=df2_aux_plot)\n",
    "print('Imóveis sem porão possuem área total {}% maior que imóveis com porão'.format(round((((df2_aux_plot.loc[1,'sqft_lot']/df2_aux_plot.loc[0,'sqft_lot'])-1)*100),2)))"
   ]
  },
  {
   "cell_type": "markdown",
   "id": "f0ff40f9",
   "metadata": {},
   "source": [
    "### H4: Imóveis com 2 quartos são 20% mais caros que imóveis com menos quartos.\n",
    "**Verdadeira: Imóveis com 2 quartão são, em média, 24.16% mais caros que imóveis com menos quartos**"
   ]
  },
  {
   "cell_type": "code",
   "execution_count": 155,
   "id": "2b4dd744",
   "metadata": {
    "ExecuteTime": {
     "end_time": "2022-08-06T20:37:47.040458Z",
     "start_time": "2022-08-06T20:37:46.814981Z"
    }
   },
   "outputs": [
    {
     "name": "stdout",
     "output_type": "stream",
     "text": [
      "Imóveis com dois quartos são 24.16% mais caros que imóveis com menos quartos.\n"
     ]
    },
    {
     "data": {
      "image/png": "[encoded data removed]",
      "text/plain": [
       "<Figure size 432x288 with 1 Axes>"
      ]
     },
     "metadata": {
      "needs_background": "light"
     },
     "output_type": "display_data"
    }
   ],
   "source": [
    "df2_aux = df2.copy()\n",
    "df2_aux['n_bedrooms'] = df2_aux['bedrooms'].apply(lambda x: 'two' if x==2 else 'less than two' if x<2 else 'more than two')\n",
    "aux = df2_aux[['n_bedrooms','price']].groupby('n_bedrooms').mean().reset_index()\n",
    "sns.barplot(x='n_bedrooms',y='price',data=aux);\n",
    "print('Imóveis com dois quartos são {}% mais caros que imóveis com menos quartos.'.format(round((aux.loc[2,'price']/aux.loc[0,'price']-1)*100,2)))"
   ]
  },
  {
   "cell_type": "markdown",
   "id": "a769f5c7",
   "metadata": {},
   "source": [
    "### H5: Imóveis construídos na decáda de 90 são 20% mais baratos que imóveis da década de 2000.\n",
    "**Falsa: Imóveis contruídos na década de 1990 são 16.23% mais baratos que os contruídos na década de 2000.**"
   ]
  },
  {
   "cell_type": "code",
   "execution_count": 154,
   "id": "c5a3fe6c",
   "metadata": {
    "ExecuteTime": {
     "end_time": "2022-08-06T20:37:33.500618Z",
     "start_time": "2022-08-06T20:37:33.314226Z"
    }
   },
   "outputs": [
    {
     "name": "stdout",
     "output_type": "stream",
     "text": [
      "Imóveis contruídos na década de 1990 são 16.23% mais baratos que os contruídos na década de 2000.\n"
     ]
    },
    {
     "data": {
      "image/png": "[encoded data removed]",
      "text/plain": [
       "<Figure size 432x288 with 1 Axes>"
      ]
     },
     "metadata": {
      "needs_background": "light"
     },
     "output_type": "display_data"
    }
   ],
   "source": [
    "df2_aux = df2.copy()\n",
    "df2_aux['decada'] = df2_aux['yr_built'].apply(lambda x: '90' if x<=1999 else '00' if x>=2000 else '-')\n",
    "aux = df2_aux[['decada','price']].groupby('decada').mean().reset_index()\n",
    "sns.barplot(x='decada',y='price',data=aux);\n",
    "print('Imóveis contruídos na década de 1990 são {}% mais baratos que os contruídos na década de 2000.'.format(round((1-aux.loc[1,'price']/aux.loc[0,'price'])*100,2)))"
   ]
  },
  {
   "cell_type": "markdown",
   "id": "81bf4984",
   "metadata": {},
   "source": [
    "### H6: Imóveis com mais de 1 andar são 20% mais caros que imóveis com apenas 1 andar.\n",
    "**Falsa: Imóveis com mais de 1 andar são 43% mais caro que imóveis com apenas 1 andar.**"
   ]
  },
  {
   "cell_type": "code",
   "execution_count": 153,
   "id": "ebbd3583",
   "metadata": {
    "ExecuteTime": {
     "end_time": "2022-08-06T20:36:17.064629Z",
     "start_time": "2022-08-06T20:36:16.858836Z"
    }
   },
   "outputs": [
    {
     "name": "stdout",
     "output_type": "stream",
     "text": [
      "Imóveis com mais de 1 andas são 43.77% mais caros que imóvies de apenas 1 andar\n"
     ]
    },
    {
     "data": {
      "image/png": "[encoded data removed]",
      "text/plain": [
       "<Figure size 432x288 with 1 Axes>"
      ]
     },
     "metadata": {
      "needs_background": "light"
     },
     "output_type": "display_data"
    }
   ],
   "source": [
    "df2_aux = df2.copy()\n",
    "df2_aux['n_floors'] = df2_aux['floors'].apply(lambda x: 'more than one' if x>1 else 'one' if x==1 else '-')\n",
    "aux = df2_aux[['n_floors','price']].groupby('n_floors').mean().reset_index()\n",
    "sns.barplot(x='n_floors',y='price',data=aux);\n",
    "print('Imóveis com mais de 1 andas são {}% mais caros que imóvies de apenas 1 andar'.format(round((aux.loc[0,'price']/aux.loc[1,'price']-1) *100,2)))"
   ]
  },
  {
   "cell_type": "markdown",
   "id": "9364eaf1",
   "metadata": {},
   "source": [
    "### H7: Imóveis que foram reformados depois de 2005 são aproximadamente 30% mais caros que os que foram reformados antes de 2005.\n",
    "**Verdadeiro: Imóveis que foram reformados depois de 2005 são cerca de 28.5% mais caros que os foram antes.**"
   ]
  },
  {
   "cell_type": "code",
   "execution_count": 163,
   "id": "97f8368d",
   "metadata": {
    "ExecuteTime": {
     "end_time": "2022-08-06T20:52:34.900983Z",
     "start_time": "2022-08-06T20:52:34.712531Z"
    }
   },
   "outputs": [
    {
     "name": "stdout",
     "output_type": "stream",
     "text": [
      "Imóveis que foram reformados depois 2005 são 28.47% mais caros que os que foram reformados antes.\n"
     ]
    },
    {
     "data": {
      "image/png": "[encoded data removed]",
      "text/plain": [
       "<Figure size 432x288 with 1 Axes>"
      ]
     },
     "metadata": {
      "needs_background": "light"
     },
     "output_type": "display_data"
    }
   ],
   "source": [
    "df2_aux = df2.copy()\n",
    "df2_aux['renovated'] = df2_aux['yr_renovated'].apply(lambda x: 'before 2005' if x<=2005 else 'after 2005')\n",
    "aux = df2_aux[['renovated','price']].groupby('renovated').mean().reset_index()\n",
    "sns.barplot(x='renovated',y='price',data=aux);\n",
    "print('Imóveis que foram reformados depois 2005 são {}% mais caros que os que foram reformados antes.'.format(round((1-(aux.loc[1,'price']/aux.loc[0,'price']))*100,2)))"
   ]
  },
  {
   "cell_type": "markdown",
   "id": "e3133703",
   "metadata": {},
   "source": [
    "### H8: Imóveis que tem 2 quartos são no mínimo 50% mais caros que imóveis de apenas 1 quarto.\n",
    "**Falsa: Imóveis com 2 quartos são, em média, 26.5% mais caros que imóveis de 1 quarto.**"
   ]
  },
  {
   "cell_type": "code",
   "execution_count": 164,
   "id": "0551c912",
   "metadata": {
    "ExecuteTime": {
     "end_time": "2022-08-06T20:53:21.805663Z",
     "start_time": "2022-08-06T20:53:21.559722Z"
    },
    "scrolled": true
   },
   "outputs": [
    {
     "name": "stdout",
     "output_type": "stream",
     "text": [
      "Imóveis com 2 quartão são 26.36% mais caros que imóveis de 1 quarto\n"
     ]
    },
    {
     "data": {
      "image/png": "[encoded data removed]",
      "text/plain": [
       "<Figure size 432x288 with 1 Axes>"
      ]
     },
     "metadata": {
      "needs_background": "light"
     },
     "output_type": "display_data"
    }
   ],
   "source": [
    "aux = df2[['bedrooms','price']].groupby('bedrooms').mean().reset_index()\n",
    "sns.barplot(x='bedrooms',y='price',data=aux);\n",
    "print('Imóveis com 2 quartão são {}% mais caros que imóveis de 1 quarto'.format(round((aux.loc[2,'price']/aux.loc[1,'price'] - 1)*100,2)))"
   ]
  },
  {
   "cell_type": "markdown",
   "id": "60a96de9",
   "metadata": {},
   "source": [
    "## Hypotesis Table"
   ]
  },
  {
   "cell_type": "code",
   "execution_count": 187,
   "id": "080bb34f",
   "metadata": {
    "ExecuteTime": {
     "end_time": "2022-08-07T01:40:46.434969Z",
     "start_time": "2022-08-07T01:40:46.418331Z"
    }
   },
   "outputs": [
    {
     "name": "stdout",
     "output_type": "stream",
     "text": [
      "╒═════════════╤══════════════╤═════════════╕\n",
      "│ Hypotesis   │ Conclusion   │ Relevance   │\n",
      "╞═════════════╪══════════════╪═════════════╡\n",
      "│ H1          │ False        │ High        │\n",
      "├─────────────┼──────────────┼─────────────┤\n",
      "│ H2          │ False        │ Low         │\n",
      "├─────────────┼──────────────┼─────────────┤\n",
      "│ H3          │ False        │ Low         │\n",
      "├─────────────┼──────────────┼─────────────┤\n",
      "│ H4          │ True         │ Low         │\n",
      "├─────────────┼──────────────┼─────────────┤\n",
      "│ H5          │ False        │ Low         │\n",
      "├─────────────┼──────────────┼─────────────┤\n",
      "│ H6          │ False        │ High        │\n",
      "├─────────────┼──────────────┼─────────────┤\n",
      "│ H7          │ True         │ High        │\n",
      "├─────────────┼──────────────┼─────────────┤\n",
      "│ H8          │ False        │ Low         │\n",
      "╘═════════════╧══════════════╧═════════════╛\n"
     ]
    }
   ],
   "source": [
    "table = {'Hypotesis': ['H1','H2','H3','H4','H5','H6','H7','H8'],'Conclusion':['False','False','False','True','False','False','True','False'],'Relevance':['High','Low','Low','Low','Low','High','High','Low']}\n",
    "\n",
    "print(tabulate(table, headers=['Hypotesis','Conclusion','Relevance'], tablefmt=\"fancy_grid\"))"
   ]
  },
  {
   "cell_type": "code",
   "execution_count": null,
   "id": "cf2106ef",
   "metadata": {},
   "outputs": [],
   "source": []
  }
 ],
 "metadata": {
  "kernelspec": {
   "display_name": "Python 3 (ipykernel)",
   "language": "python",
   "name": "python3"
  },
  "language_info": {
   "codemirror_mode": {
    "name": "ipython",
    "version": 3
   },
   "file_extension": ".py",
   "mimetype": "text/x-python",
   "name": "python",
   "nbconvert_exporter": "python",
   "pygments_lexer": "ipython3",
   "version": "3.8.0"
  }
 },
 "nbformat": 4,
 "nbformat_minor": 5
}
